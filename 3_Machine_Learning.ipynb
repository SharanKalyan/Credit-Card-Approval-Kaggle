{
 "cells": [
  {
   "cell_type": "markdown",
   "id": "1b6255e3",
   "metadata": {},
   "source": [
    "# 3. Machine Learning Models"
   ]
  },
  {
   "cell_type": "markdown",
   "id": "c390bb2a",
   "metadata": {},
   "source": [
    "### Libraries"
   ]
  },
  {
   "cell_type": "code",
   "execution_count": 2,
   "id": "b8a42076",
   "metadata": {},
   "outputs": [],
   "source": [
    "## pandas and Numpy\n",
    "import pandas as pd\n",
    "import numpy as np\n",
    "## Visualizations\n",
    "import matplotlib.pyplot as plt\n",
    "import seaborn as sns\n",
    "## Machine Learning\n",
    "from sklearn.linear_model import LogisticRegression\n",
    "from sklearn.neighbors import KNeighborsClassifier\n",
    "from sklearn.tree import DecisionTreeClassifier\n",
    "from sklearn.ensemble import RandomForestClassifier, GradientBoostingClassifier\n",
    "from xgboost import XGBClassifier, XGBRFClassifier\n",
    "from catboost import CatBoostClassifier\n",
    "from lightgbm import LGBMClassifier\n",
    "from sklearn.model_selection import train_test_split\n",
    "from sklearn.metrics import accuracy_score, confusion_matrix, classification_report, roc_auc_score, roc_curve\n",
    "## Others\n",
    "import warnings\n",
    "warnings.filterwarnings(\"ignore\")\n",
    "pd.set_option(\"display.max_columns\",None)\n",
    "pd.set_option(\"display.max_rows\",None)"
   ]
  },
  {
   "cell_type": "markdown",
   "id": "409eaa92",
   "metadata": {},
   "source": [
    "### Importing the data"
   ]
  },
  {
   "cell_type": "code",
   "execution_count": 58,
   "id": "0d13508e",
   "metadata": {},
   "outputs": [],
   "source": [
    "df = pd.read_csv('clean_data_for_ml.csv')"
   ]
  },
  {
   "cell_type": "code",
   "execution_count": 148,
   "id": "1a9ecfcc",
   "metadata": {},
   "outputs": [
    {
     "data": {
      "text/html": [
       "<div>\n",
       "<style scoped>\n",
       "    .dataframe tbody tr th:only-of-type {\n",
       "        vertical-align: middle;\n",
       "    }\n",
       "\n",
       "    .dataframe tbody tr th {\n",
       "        vertical-align: top;\n",
       "    }\n",
       "\n",
       "    .dataframe thead th {\n",
       "        text-align: right;\n",
       "    }\n",
       "</style>\n",
       "<table border=\"1\" class=\"dataframe\">\n",
       "  <thead>\n",
       "    <tr style=\"text-align: right;\">\n",
       "      <th></th>\n",
       "      <th>Applicant_ID</th>\n",
       "      <th>Applicant_Gender</th>\n",
       "      <th>Owned_Car</th>\n",
       "      <th>Owned_Realty</th>\n",
       "      <th>Total_Children</th>\n",
       "      <th>Total_Income</th>\n",
       "      <th>Total_Income_Catg</th>\n",
       "      <th>Income_Type</th>\n",
       "      <th>Education_Type</th>\n",
       "      <th>Family_Status</th>\n",
       "      <th>Housing_Type</th>\n",
       "      <th>Owned_Mobile_Phone</th>\n",
       "      <th>Owned_Work_Phone</th>\n",
       "      <th>Owned_Phone</th>\n",
       "      <th>Owned_Email</th>\n",
       "      <th>Job_Title</th>\n",
       "      <th>Total_Family_Members</th>\n",
       "      <th>Applicant_Age</th>\n",
       "      <th>Years_of_Working</th>\n",
       "      <th>Total_Bad_Debt</th>\n",
       "      <th>Total_Bad_Debt_Catg</th>\n",
       "      <th>Total_Good_Debt</th>\n",
       "      <th>Debt_Score</th>\n",
       "      <th>Debit_Score_Catg</th>\n",
       "      <th>Status</th>\n",
       "    </tr>\n",
       "  </thead>\n",
       "  <tbody>\n",
       "    <tr>\n",
       "      <th>0</th>\n",
       "      <td>5008806</td>\n",
       "      <td>M</td>\n",
       "      <td>1</td>\n",
       "      <td>1</td>\n",
       "      <td>0</td>\n",
       "      <td>112500</td>\n",
       "      <td>Poor</td>\n",
       "      <td>Working</td>\n",
       "      <td>Secondary / secondary special</td>\n",
       "      <td>Married</td>\n",
       "      <td>House / apartment</td>\n",
       "      <td>1</td>\n",
       "      <td>0</td>\n",
       "      <td>0</td>\n",
       "      <td>0</td>\n",
       "      <td>Security staff</td>\n",
       "      <td>2</td>\n",
       "      <td>59</td>\n",
       "      <td>4</td>\n",
       "      <td>0</td>\n",
       "      <td>No bad dept</td>\n",
       "      <td>30</td>\n",
       "      <td>30</td>\n",
       "      <td>Very Good</td>\n",
       "      <td>1</td>\n",
       "    </tr>\n",
       "    <tr>\n",
       "      <th>1</th>\n",
       "      <td>5008808</td>\n",
       "      <td>F</td>\n",
       "      <td>0</td>\n",
       "      <td>1</td>\n",
       "      <td>0</td>\n",
       "      <td>270000</td>\n",
       "      <td>Upper Middle Class</td>\n",
       "      <td>Commercial associate</td>\n",
       "      <td>Secondary / secondary special</td>\n",
       "      <td>Single / not married</td>\n",
       "      <td>House / apartment</td>\n",
       "      <td>1</td>\n",
       "      <td>0</td>\n",
       "      <td>1</td>\n",
       "      <td>1</td>\n",
       "      <td>Sales staff</td>\n",
       "      <td>1</td>\n",
       "      <td>53</td>\n",
       "      <td>9</td>\n",
       "      <td>0</td>\n",
       "      <td>No bad dept</td>\n",
       "      <td>5</td>\n",
       "      <td>5</td>\n",
       "      <td>Poor</td>\n",
       "      <td>1</td>\n",
       "    </tr>\n",
       "    <tr>\n",
       "      <th>2</th>\n",
       "      <td>5008809</td>\n",
       "      <td>F</td>\n",
       "      <td>0</td>\n",
       "      <td>1</td>\n",
       "      <td>0</td>\n",
       "      <td>270000</td>\n",
       "      <td>Upper Middle Class</td>\n",
       "      <td>Commercial associate</td>\n",
       "      <td>Secondary / secondary special</td>\n",
       "      <td>Single / not married</td>\n",
       "      <td>House / apartment</td>\n",
       "      <td>1</td>\n",
       "      <td>0</td>\n",
       "      <td>1</td>\n",
       "      <td>1</td>\n",
       "      <td>Sales staff</td>\n",
       "      <td>1</td>\n",
       "      <td>53</td>\n",
       "      <td>9</td>\n",
       "      <td>0</td>\n",
       "      <td>No bad dept</td>\n",
       "      <td>5</td>\n",
       "      <td>5</td>\n",
       "      <td>Poor</td>\n",
       "      <td>1</td>\n",
       "    </tr>\n",
       "  </tbody>\n",
       "</table>\n",
       "</div>"
      ],
      "text/plain": [
       "   Applicant_ID Applicant_Gender  Owned_Car  Owned_Realty  Total_Children  \\\n",
       "0       5008806                M          1             1               0   \n",
       "1       5008808                F          0             1               0   \n",
       "2       5008809                F          0             1               0   \n",
       "\n",
       "   Total_Income   Total_Income_Catg           Income_Type  \\\n",
       "0        112500                Poor               Working   \n",
       "1        270000  Upper Middle Class  Commercial associate   \n",
       "2        270000  Upper Middle Class  Commercial associate   \n",
       "\n",
       "                  Education_Type         Family_Status       Housing_Type  \\\n",
       "0  Secondary / secondary special               Married  House / apartment   \n",
       "1  Secondary / secondary special  Single / not married  House / apartment   \n",
       "2  Secondary / secondary special  Single / not married  House / apartment   \n",
       "\n",
       "   Owned_Mobile_Phone  Owned_Work_Phone  Owned_Phone  Owned_Email  \\\n",
       "0                   1                 0            0            0   \n",
       "1                   1                 0            1            1   \n",
       "2                   1                 0            1            1   \n",
       "\n",
       "        Job_Title  Total_Family_Members  Applicant_Age  Years_of_Working  \\\n",
       "0  Security staff                     2             59                 4   \n",
       "1     Sales staff                     1             53                 9   \n",
       "2     Sales staff                     1             53                 9   \n",
       "\n",
       "   Total_Bad_Debt Total_Bad_Debt_Catg  Total_Good_Debt  Debt_Score  \\\n",
       "0               0         No bad dept               30          30   \n",
       "1               0         No bad dept                5           5   \n",
       "2               0         No bad dept                5           5   \n",
       "\n",
       "  Debit_Score_Catg  Status  \n",
       "0        Very Good       1  \n",
       "1             Poor       1  \n",
       "2             Poor       1  "
      ]
     },
     "execution_count": 148,
     "metadata": {},
     "output_type": "execute_result"
    }
   ],
   "source": [
    "df.head(3)"
   ]
  },
  {
   "cell_type": "markdown",
   "id": "53905536",
   "metadata": {},
   "source": [
    "### Info and data description"
   ]
  },
  {
   "cell_type": "code",
   "execution_count": 60,
   "id": "d98a1dd6",
   "metadata": {
    "scrolled": false
   },
   "outputs": [
    {
     "name": "stdout",
     "output_type": "stream",
     "text": [
      "<class 'pandas.core.frame.DataFrame'>\n",
      "RangeIndex: 25128 entries, 0 to 25127\n",
      "Data columns (total 25 columns):\n",
      " #   Column                Non-Null Count  Dtype \n",
      "---  ------                --------------  ----- \n",
      " 0   Applicant_ID          25128 non-null  int64 \n",
      " 1   Applicant_Gender      25128 non-null  object\n",
      " 2   Owned_Car             25128 non-null  int64 \n",
      " 3   Owned_Realty          25128 non-null  int64 \n",
      " 4   Total_Children        25128 non-null  int64 \n",
      " 5   Total_Income          25128 non-null  int64 \n",
      " 6   Total_Income_Catg     25128 non-null  object\n",
      " 7   Income_Type           25128 non-null  object\n",
      " 8   Education_Type        25128 non-null  object\n",
      " 9   Family_Status         25128 non-null  object\n",
      " 10  Housing_Type          25128 non-null  object\n",
      " 11  Owned_Mobile_Phone    25128 non-null  int64 \n",
      " 12  Owned_Work_Phone      25128 non-null  int64 \n",
      " 13  Owned_Phone           25128 non-null  int64 \n",
      " 14  Owned_Email           25128 non-null  int64 \n",
      " 15  Job_Title             25128 non-null  object\n",
      " 16  Total_Family_Members  25128 non-null  int64 \n",
      " 17  Applicant_Age         25128 non-null  int64 \n",
      " 18  Years_of_Working      25128 non-null  int64 \n",
      " 19  Total_Bad_Debt        25128 non-null  int64 \n",
      " 20  Total_Bad_Debt_Catg   25128 non-null  object\n",
      " 21  Total_Good_Debt       25128 non-null  int64 \n",
      " 22  Debt_Score            25128 non-null  int64 \n",
      " 23  Debit_Score_Catg      25128 non-null  object\n",
      " 24  Status                25128 non-null  int64 \n",
      "dtypes: int64(16), object(9)\n",
      "memory usage: 4.8+ MB\n"
     ]
    }
   ],
   "source": [
    "df.info()"
   ]
  },
  {
   "cell_type": "code",
   "execution_count": 61,
   "id": "a861d05b",
   "metadata": {},
   "outputs": [
    {
     "data": {
      "text/html": [
       "<div>\n",
       "<style scoped>\n",
       "    .dataframe tbody tr th:only-of-type {\n",
       "        vertical-align: middle;\n",
       "    }\n",
       "\n",
       "    .dataframe tbody tr th {\n",
       "        vertical-align: top;\n",
       "    }\n",
       "\n",
       "    .dataframe thead th {\n",
       "        text-align: right;\n",
       "    }\n",
       "</style>\n",
       "<table border=\"1\" class=\"dataframe\">\n",
       "  <thead>\n",
       "    <tr style=\"text-align: right;\">\n",
       "      <th></th>\n",
       "      <th>count</th>\n",
       "      <th>mean</th>\n",
       "      <th>std</th>\n",
       "      <th>min</th>\n",
       "      <th>25%</th>\n",
       "      <th>50%</th>\n",
       "      <th>75%</th>\n",
       "      <th>max</th>\n",
       "    </tr>\n",
       "  </thead>\n",
       "  <tbody>\n",
       "    <tr>\n",
       "      <th>Applicant_ID</th>\n",
       "      <td>25128.0</td>\n",
       "      <td>5.078835e+06</td>\n",
       "      <td>41943.777736</td>\n",
       "      <td>5008806.0</td>\n",
       "      <td>5042225.75</td>\n",
       "      <td>5079004.0</td>\n",
       "      <td>5115603.25</td>\n",
       "      <td>5150487.0</td>\n",
       "    </tr>\n",
       "    <tr>\n",
       "      <th>Owned_Car</th>\n",
       "      <td>25128.0</td>\n",
       "      <td>4.183779e-01</td>\n",
       "      <td>0.493303</td>\n",
       "      <td>0.0</td>\n",
       "      <td>0.00</td>\n",
       "      <td>0.0</td>\n",
       "      <td>1.00</td>\n",
       "      <td>1.0</td>\n",
       "    </tr>\n",
       "    <tr>\n",
       "      <th>Owned_Realty</th>\n",
       "      <td>25128.0</td>\n",
       "      <td>6.549268e-01</td>\n",
       "      <td>0.475402</td>\n",
       "      <td>0.0</td>\n",
       "      <td>0.00</td>\n",
       "      <td>1.0</td>\n",
       "      <td>1.00</td>\n",
       "      <td>1.0</td>\n",
       "    </tr>\n",
       "    <tr>\n",
       "      <th>Total_Children</th>\n",
       "      <td>25128.0</td>\n",
       "      <td>5.094715e-01</td>\n",
       "      <td>0.762937</td>\n",
       "      <td>0.0</td>\n",
       "      <td>0.00</td>\n",
       "      <td>0.0</td>\n",
       "      <td>1.00</td>\n",
       "      <td>5.0</td>\n",
       "    </tr>\n",
       "    <tr>\n",
       "      <th>Total_Income</th>\n",
       "      <td>25128.0</td>\n",
       "      <td>1.948365e+05</td>\n",
       "      <td>104521.123300</td>\n",
       "      <td>27000.0</td>\n",
       "      <td>135000.00</td>\n",
       "      <td>180000.0</td>\n",
       "      <td>225000.00</td>\n",
       "      <td>1575000.0</td>\n",
       "    </tr>\n",
       "    <tr>\n",
       "      <th>Owned_Mobile_Phone</th>\n",
       "      <td>25128.0</td>\n",
       "      <td>1.000000e+00</td>\n",
       "      <td>0.000000</td>\n",
       "      <td>1.0</td>\n",
       "      <td>1.00</td>\n",
       "      <td>1.0</td>\n",
       "      <td>1.00</td>\n",
       "      <td>1.0</td>\n",
       "    </tr>\n",
       "    <tr>\n",
       "      <th>Owned_Work_Phone</th>\n",
       "      <td>25128.0</td>\n",
       "      <td>2.737584e-01</td>\n",
       "      <td>0.445895</td>\n",
       "      <td>0.0</td>\n",
       "      <td>0.00</td>\n",
       "      <td>0.0</td>\n",
       "      <td>1.00</td>\n",
       "      <td>1.0</td>\n",
       "    </tr>\n",
       "    <tr>\n",
       "      <th>Owned_Phone</th>\n",
       "      <td>25128.0</td>\n",
       "      <td>2.927412e-01</td>\n",
       "      <td>0.455030</td>\n",
       "      <td>0.0</td>\n",
       "      <td>0.00</td>\n",
       "      <td>0.0</td>\n",
       "      <td>1.00</td>\n",
       "      <td>1.0</td>\n",
       "    </tr>\n",
       "    <tr>\n",
       "      <th>Owned_Email</th>\n",
       "      <td>25128.0</td>\n",
       "      <td>1.006845e-01</td>\n",
       "      <td>0.300916</td>\n",
       "      <td>0.0</td>\n",
       "      <td>0.00</td>\n",
       "      <td>0.0</td>\n",
       "      <td>0.00</td>\n",
       "      <td>1.0</td>\n",
       "    </tr>\n",
       "    <tr>\n",
       "      <th>Total_Family_Members</th>\n",
       "      <td>25128.0</td>\n",
       "      <td>2.291309e+00</td>\n",
       "      <td>0.928871</td>\n",
       "      <td>1.0</td>\n",
       "      <td>2.00</td>\n",
       "      <td>2.0</td>\n",
       "      <td>3.00</td>\n",
       "      <td>7.0</td>\n",
       "    </tr>\n",
       "    <tr>\n",
       "      <th>Applicant_Age</th>\n",
       "      <td>25128.0</td>\n",
       "      <td>4.099550e+01</td>\n",
       "      <td>9.552832</td>\n",
       "      <td>21.0</td>\n",
       "      <td>33.00</td>\n",
       "      <td>40.0</td>\n",
       "      <td>48.00</td>\n",
       "      <td>68.0</td>\n",
       "    </tr>\n",
       "    <tr>\n",
       "      <th>Years_of_Working</th>\n",
       "      <td>25128.0</td>\n",
       "      <td>7.690903e+00</td>\n",
       "      <td>6.415007</td>\n",
       "      <td>1.0</td>\n",
       "      <td>3.00</td>\n",
       "      <td>6.0</td>\n",
       "      <td>10.00</td>\n",
       "      <td>44.0</td>\n",
       "    </tr>\n",
       "    <tr>\n",
       "      <th>Total_Bad_Debt</th>\n",
       "      <td>25128.0</td>\n",
       "      <td>3.330946e-01</td>\n",
       "      <td>1.569448</td>\n",
       "      <td>0.0</td>\n",
       "      <td>0.00</td>\n",
       "      <td>0.0</td>\n",
       "      <td>0.00</td>\n",
       "      <td>49.0</td>\n",
       "    </tr>\n",
       "    <tr>\n",
       "      <th>Total_Good_Debt</th>\n",
       "      <td>25128.0</td>\n",
       "      <td>2.105755e+01</td>\n",
       "      <td>14.735347</td>\n",
       "      <td>1.0</td>\n",
       "      <td>9.00</td>\n",
       "      <td>18.0</td>\n",
       "      <td>31.00</td>\n",
       "      <td>61.0</td>\n",
       "    </tr>\n",
       "    <tr>\n",
       "      <th>Debt_Score</th>\n",
       "      <td>25128.0</td>\n",
       "      <td>2.072445e+01</td>\n",
       "      <td>14.780613</td>\n",
       "      <td>-43.0</td>\n",
       "      <td>9.00</td>\n",
       "      <td>17.0</td>\n",
       "      <td>30.00</td>\n",
       "      <td>61.0</td>\n",
       "    </tr>\n",
       "    <tr>\n",
       "      <th>Status</th>\n",
       "      <td>25128.0</td>\n",
       "      <td>9.951847e-01</td>\n",
       "      <td>0.069227</td>\n",
       "      <td>0.0</td>\n",
       "      <td>1.00</td>\n",
       "      <td>1.0</td>\n",
       "      <td>1.00</td>\n",
       "      <td>1.0</td>\n",
       "    </tr>\n",
       "  </tbody>\n",
       "</table>\n",
       "</div>"
      ],
      "text/plain": [
       "                        count          mean            std        min  \\\n",
       "Applicant_ID          25128.0  5.078835e+06   41943.777736  5008806.0   \n",
       "Owned_Car             25128.0  4.183779e-01       0.493303        0.0   \n",
       "Owned_Realty          25128.0  6.549268e-01       0.475402        0.0   \n",
       "Total_Children        25128.0  5.094715e-01       0.762937        0.0   \n",
       "Total_Income          25128.0  1.948365e+05  104521.123300    27000.0   \n",
       "Owned_Mobile_Phone    25128.0  1.000000e+00       0.000000        1.0   \n",
       "Owned_Work_Phone      25128.0  2.737584e-01       0.445895        0.0   \n",
       "Owned_Phone           25128.0  2.927412e-01       0.455030        0.0   \n",
       "Owned_Email           25128.0  1.006845e-01       0.300916        0.0   \n",
       "Total_Family_Members  25128.0  2.291309e+00       0.928871        1.0   \n",
       "Applicant_Age         25128.0  4.099550e+01       9.552832       21.0   \n",
       "Years_of_Working      25128.0  7.690903e+00       6.415007        1.0   \n",
       "Total_Bad_Debt        25128.0  3.330946e-01       1.569448        0.0   \n",
       "Total_Good_Debt       25128.0  2.105755e+01      14.735347        1.0   \n",
       "Debt_Score            25128.0  2.072445e+01      14.780613      -43.0   \n",
       "Status                25128.0  9.951847e-01       0.069227        0.0   \n",
       "\n",
       "                             25%        50%         75%        max  \n",
       "Applicant_ID          5042225.75  5079004.0  5115603.25  5150487.0  \n",
       "Owned_Car                   0.00        0.0        1.00        1.0  \n",
       "Owned_Realty                0.00        1.0        1.00        1.0  \n",
       "Total_Children              0.00        0.0        1.00        5.0  \n",
       "Total_Income           135000.00   180000.0   225000.00  1575000.0  \n",
       "Owned_Mobile_Phone          1.00        1.0        1.00        1.0  \n",
       "Owned_Work_Phone            0.00        0.0        1.00        1.0  \n",
       "Owned_Phone                 0.00        0.0        1.00        1.0  \n",
       "Owned_Email                 0.00        0.0        0.00        1.0  \n",
       "Total_Family_Members        2.00        2.0        3.00        7.0  \n",
       "Applicant_Age              33.00       40.0       48.00       68.0  \n",
       "Years_of_Working            3.00        6.0       10.00       44.0  \n",
       "Total_Bad_Debt              0.00        0.0        0.00       49.0  \n",
       "Total_Good_Debt             9.00       18.0       31.00       61.0  \n",
       "Debt_Score                  9.00       17.0       30.00       61.0  \n",
       "Status                      1.00        1.0        1.00        1.0  "
      ]
     },
     "execution_count": 61,
     "metadata": {},
     "output_type": "execute_result"
    }
   ],
   "source": [
    "df.describe().transpose()"
   ]
  },
  {
   "cell_type": "code",
   "execution_count": null,
   "id": "82a439d8",
   "metadata": {},
   "outputs": [],
   "source": []
  },
  {
   "cell_type": "markdown",
   "id": "c0abb8ed",
   "metadata": {},
   "source": [
    "### Null value analysis"
   ]
  },
  {
   "cell_type": "code",
   "execution_count": 62,
   "id": "026de952",
   "metadata": {},
   "outputs": [
    {
     "data": {
      "text/plain": [
       "Applicant_ID            0\n",
       "Applicant_Gender        0\n",
       "Owned_Car               0\n",
       "Owned_Realty            0\n",
       "Total_Children          0\n",
       "Total_Income            0\n",
       "Total_Income_Catg       0\n",
       "Income_Type             0\n",
       "Education_Type          0\n",
       "Family_Status           0\n",
       "Housing_Type            0\n",
       "Owned_Mobile_Phone      0\n",
       "Owned_Work_Phone        0\n",
       "Owned_Phone             0\n",
       "Owned_Email             0\n",
       "Job_Title               0\n",
       "Total_Family_Members    0\n",
       "Applicant_Age           0\n",
       "Years_of_Working        0\n",
       "Total_Bad_Debt          0\n",
       "Total_Bad_Debt_Catg     0\n",
       "Total_Good_Debt         0\n",
       "Debt_Score              0\n",
       "Debit_Score_Catg        0\n",
       "Status                  0\n",
       "dtype: int64"
      ]
     },
     "execution_count": 62,
     "metadata": {},
     "output_type": "execute_result"
    }
   ],
   "source": [
    "df.isnull().sum()"
   ]
  },
  {
   "cell_type": "code",
   "execution_count": null,
   "id": "48c5ffe2",
   "metadata": {},
   "outputs": [],
   "source": []
  },
  {
   "cell_type": "markdown",
   "id": "376b783c",
   "metadata": {},
   "source": [
    "### distributions and outliers"
   ]
  },
  {
   "cell_type": "code",
   "execution_count": 63,
   "id": "87e0910f",
   "metadata": {
    "scrolled": false
   },
   "outputs": [],
   "source": [
    "def distributions():\n",
    "    for i in df.columns:\n",
    "        if (df[i].dtypes != 'object') & (i != 'Applicant_ID'):\n",
    "            print('\\n')\n",
    "            print(i)\n",
    "            plt.figure(figsize=(12,5))\n",
    "            sns.histplot(data = df, x = i,kde=True,color='b')\n",
    "            plt.grid()\n",
    "            plt.title(i)\n",
    "            plt.show()\n",
    "            \n",
    "            plt.figure(figsize=(12,5))\n",
    "            sns.boxplot(data = df, x = i,color='y')\n",
    "            plt.grid()\n",
    "            plt.title(i)\n",
    "            plt.show()"
   ]
  },
  {
   "cell_type": "code",
   "execution_count": 64,
   "id": "831a885b",
   "metadata": {
    "scrolled": false
   },
   "outputs": [],
   "source": [
    "# distributions()"
   ]
  },
  {
   "cell_type": "markdown",
   "id": "23a0c9df",
   "metadata": {},
   "source": [
    "### We can see that the data is imballanced for the target (Status)"
   ]
  },
  {
   "cell_type": "markdown",
   "id": "745887ab",
   "metadata": {},
   "source": [
    "### How much is the Target variable imbalanced ?"
   ]
  },
  {
   "cell_type": "code",
   "execution_count": 65,
   "id": "90b19958",
   "metadata": {},
   "outputs": [],
   "source": [
    "target_imbalance = pd.DataFrame(df.Status.value_counts())\n",
    "target_imbalance['Percentage %'] = round(target_imbalance['Status'] / len(df),4)*100"
   ]
  },
  {
   "cell_type": "code",
   "execution_count": 66,
   "id": "22aa52e7",
   "metadata": {},
   "outputs": [],
   "source": [
    "target_imbalance['Class'] = target_imbalance.index"
   ]
  },
  {
   "cell_type": "code",
   "execution_count": 67,
   "id": "89f023f5",
   "metadata": {},
   "outputs": [
    {
     "data": {
      "text/html": [
       "<div>\n",
       "<style scoped>\n",
       "    .dataframe tbody tr th:only-of-type {\n",
       "        vertical-align: middle;\n",
       "    }\n",
       "\n",
       "    .dataframe tbody tr th {\n",
       "        vertical-align: top;\n",
       "    }\n",
       "\n",
       "    .dataframe thead th {\n",
       "        text-align: right;\n",
       "    }\n",
       "</style>\n",
       "<table border=\"1\" class=\"dataframe\">\n",
       "  <thead>\n",
       "    <tr style=\"text-align: right;\">\n",
       "      <th></th>\n",
       "      <th>Status</th>\n",
       "      <th>Percentage %</th>\n",
       "      <th>Class</th>\n",
       "    </tr>\n",
       "  </thead>\n",
       "  <tbody>\n",
       "    <tr>\n",
       "      <th>1</th>\n",
       "      <td>25007</td>\n",
       "      <td>99.52</td>\n",
       "      <td>1</td>\n",
       "    </tr>\n",
       "    <tr>\n",
       "      <th>0</th>\n",
       "      <td>121</td>\n",
       "      <td>0.48</td>\n",
       "      <td>0</td>\n",
       "    </tr>\n",
       "  </tbody>\n",
       "</table>\n",
       "</div>"
      ],
      "text/plain": [
       "   Status  Percentage %  Class\n",
       "1   25007         99.52      1\n",
       "0     121          0.48      0"
      ]
     },
     "execution_count": 67,
     "metadata": {},
     "output_type": "execute_result"
    }
   ],
   "source": [
    "target_imbalance"
   ]
  },
  {
   "cell_type": "markdown",
   "id": "b2c7fe78",
   "metadata": {},
   "source": [
    "### Inference : Basically, the CC is given to almost everyone who applies for it!"
   ]
  },
  {
   "cell_type": "code",
   "execution_count": null,
   "id": "a82051d5",
   "metadata": {},
   "outputs": [],
   "source": []
  },
  {
   "cell_type": "markdown",
   "id": "a46e26b3",
   "metadata": {},
   "source": [
    "### Machine learning "
   ]
  },
  {
   "cell_type": "code",
   "execution_count": 119,
   "id": "5931dc30",
   "metadata": {},
   "outputs": [],
   "source": [
    "ml = df.copy()"
   ]
  },
  {
   "cell_type": "code",
   "execution_count": 120,
   "id": "226c95ed",
   "metadata": {},
   "outputs": [
    {
     "data": {
      "text/html": [
       "<div>\n",
       "<style scoped>\n",
       "    .dataframe tbody tr th:only-of-type {\n",
       "        vertical-align: middle;\n",
       "    }\n",
       "\n",
       "    .dataframe tbody tr th {\n",
       "        vertical-align: top;\n",
       "    }\n",
       "\n",
       "    .dataframe thead th {\n",
       "        text-align: right;\n",
       "    }\n",
       "</style>\n",
       "<table border=\"1\" class=\"dataframe\">\n",
       "  <thead>\n",
       "    <tr style=\"text-align: right;\">\n",
       "      <th></th>\n",
       "      <th>Applicant_ID</th>\n",
       "      <th>Applicant_Gender</th>\n",
       "      <th>Owned_Car</th>\n",
       "      <th>Owned_Realty</th>\n",
       "      <th>Total_Children</th>\n",
       "      <th>Total_Income</th>\n",
       "      <th>Total_Income_Catg</th>\n",
       "      <th>Income_Type</th>\n",
       "      <th>Education_Type</th>\n",
       "      <th>Family_Status</th>\n",
       "      <th>Housing_Type</th>\n",
       "      <th>Owned_Mobile_Phone</th>\n",
       "      <th>Owned_Work_Phone</th>\n",
       "      <th>Owned_Phone</th>\n",
       "      <th>Owned_Email</th>\n",
       "      <th>Job_Title</th>\n",
       "      <th>Total_Family_Members</th>\n",
       "      <th>Applicant_Age</th>\n",
       "      <th>Years_of_Working</th>\n",
       "      <th>Total_Bad_Debt</th>\n",
       "      <th>Total_Bad_Debt_Catg</th>\n",
       "      <th>Total_Good_Debt</th>\n",
       "      <th>Debt_Score</th>\n",
       "      <th>Debit_Score_Catg</th>\n",
       "      <th>Status</th>\n",
       "    </tr>\n",
       "  </thead>\n",
       "  <tbody>\n",
       "    <tr>\n",
       "      <th>0</th>\n",
       "      <td>5008806</td>\n",
       "      <td>M</td>\n",
       "      <td>1</td>\n",
       "      <td>1</td>\n",
       "      <td>0</td>\n",
       "      <td>112500</td>\n",
       "      <td>Poor</td>\n",
       "      <td>Working</td>\n",
       "      <td>Secondary / secondary special</td>\n",
       "      <td>Married</td>\n",
       "      <td>House / apartment</td>\n",
       "      <td>1</td>\n",
       "      <td>0</td>\n",
       "      <td>0</td>\n",
       "      <td>0</td>\n",
       "      <td>Security staff</td>\n",
       "      <td>2</td>\n",
       "      <td>59</td>\n",
       "      <td>4</td>\n",
       "      <td>0</td>\n",
       "      <td>No bad dept</td>\n",
       "      <td>30</td>\n",
       "      <td>30</td>\n",
       "      <td>Very Good</td>\n",
       "      <td>1</td>\n",
       "    </tr>\n",
       "    <tr>\n",
       "      <th>1</th>\n",
       "      <td>5008808</td>\n",
       "      <td>F</td>\n",
       "      <td>0</td>\n",
       "      <td>1</td>\n",
       "      <td>0</td>\n",
       "      <td>270000</td>\n",
       "      <td>Upper Middle Class</td>\n",
       "      <td>Commercial associate</td>\n",
       "      <td>Secondary / secondary special</td>\n",
       "      <td>Single / not married</td>\n",
       "      <td>House / apartment</td>\n",
       "      <td>1</td>\n",
       "      <td>0</td>\n",
       "      <td>1</td>\n",
       "      <td>1</td>\n",
       "      <td>Sales staff</td>\n",
       "      <td>1</td>\n",
       "      <td>53</td>\n",
       "      <td>9</td>\n",
       "      <td>0</td>\n",
       "      <td>No bad dept</td>\n",
       "      <td>5</td>\n",
       "      <td>5</td>\n",
       "      <td>Poor</td>\n",
       "      <td>1</td>\n",
       "    </tr>\n",
       "    <tr>\n",
       "      <th>2</th>\n",
       "      <td>5008809</td>\n",
       "      <td>F</td>\n",
       "      <td>0</td>\n",
       "      <td>1</td>\n",
       "      <td>0</td>\n",
       "      <td>270000</td>\n",
       "      <td>Upper Middle Class</td>\n",
       "      <td>Commercial associate</td>\n",
       "      <td>Secondary / secondary special</td>\n",
       "      <td>Single / not married</td>\n",
       "      <td>House / apartment</td>\n",
       "      <td>1</td>\n",
       "      <td>0</td>\n",
       "      <td>1</td>\n",
       "      <td>1</td>\n",
       "      <td>Sales staff</td>\n",
       "      <td>1</td>\n",
       "      <td>53</td>\n",
       "      <td>9</td>\n",
       "      <td>0</td>\n",
       "      <td>No bad dept</td>\n",
       "      <td>5</td>\n",
       "      <td>5</td>\n",
       "      <td>Poor</td>\n",
       "      <td>1</td>\n",
       "    </tr>\n",
       "    <tr>\n",
       "      <th>3</th>\n",
       "      <td>5008810</td>\n",
       "      <td>F</td>\n",
       "      <td>0</td>\n",
       "      <td>1</td>\n",
       "      <td>0</td>\n",
       "      <td>270000</td>\n",
       "      <td>Upper Middle Class</td>\n",
       "      <td>Commercial associate</td>\n",
       "      <td>Secondary / secondary special</td>\n",
       "      <td>Single / not married</td>\n",
       "      <td>House / apartment</td>\n",
       "      <td>1</td>\n",
       "      <td>0</td>\n",
       "      <td>1</td>\n",
       "      <td>1</td>\n",
       "      <td>Sales staff</td>\n",
       "      <td>1</td>\n",
       "      <td>53</td>\n",
       "      <td>9</td>\n",
       "      <td>0</td>\n",
       "      <td>No bad dept</td>\n",
       "      <td>27</td>\n",
       "      <td>27</td>\n",
       "      <td>Good</td>\n",
       "      <td>1</td>\n",
       "    </tr>\n",
       "    <tr>\n",
       "      <th>4</th>\n",
       "      <td>5008811</td>\n",
       "      <td>F</td>\n",
       "      <td>0</td>\n",
       "      <td>1</td>\n",
       "      <td>0</td>\n",
       "      <td>270000</td>\n",
       "      <td>Upper Middle Class</td>\n",
       "      <td>Commercial associate</td>\n",
       "      <td>Secondary / secondary special</td>\n",
       "      <td>Single / not married</td>\n",
       "      <td>House / apartment</td>\n",
       "      <td>1</td>\n",
       "      <td>0</td>\n",
       "      <td>1</td>\n",
       "      <td>1</td>\n",
       "      <td>Sales staff</td>\n",
       "      <td>1</td>\n",
       "      <td>53</td>\n",
       "      <td>9</td>\n",
       "      <td>0</td>\n",
       "      <td>No bad dept</td>\n",
       "      <td>39</td>\n",
       "      <td>39</td>\n",
       "      <td>Very Good</td>\n",
       "      <td>1</td>\n",
       "    </tr>\n",
       "  </tbody>\n",
       "</table>\n",
       "</div>"
      ],
      "text/plain": [
       "   Applicant_ID Applicant_Gender  Owned_Car  Owned_Realty  Total_Children  \\\n",
       "0       5008806                M          1             1               0   \n",
       "1       5008808                F          0             1               0   \n",
       "2       5008809                F          0             1               0   \n",
       "3       5008810                F          0             1               0   \n",
       "4       5008811                F          0             1               0   \n",
       "\n",
       "   Total_Income   Total_Income_Catg           Income_Type  \\\n",
       "0        112500                Poor               Working   \n",
       "1        270000  Upper Middle Class  Commercial associate   \n",
       "2        270000  Upper Middle Class  Commercial associate   \n",
       "3        270000  Upper Middle Class  Commercial associate   \n",
       "4        270000  Upper Middle Class  Commercial associate   \n",
       "\n",
       "                  Education_Type         Family_Status       Housing_Type  \\\n",
       "0  Secondary / secondary special               Married  House / apartment   \n",
       "1  Secondary / secondary special  Single / not married  House / apartment   \n",
       "2  Secondary / secondary special  Single / not married  House / apartment   \n",
       "3  Secondary / secondary special  Single / not married  House / apartment   \n",
       "4  Secondary / secondary special  Single / not married  House / apartment   \n",
       "\n",
       "   Owned_Mobile_Phone  Owned_Work_Phone  Owned_Phone  Owned_Email  \\\n",
       "0                   1                 0            0            0   \n",
       "1                   1                 0            1            1   \n",
       "2                   1                 0            1            1   \n",
       "3                   1                 0            1            1   \n",
       "4                   1                 0            1            1   \n",
       "\n",
       "        Job_Title  Total_Family_Members  Applicant_Age  Years_of_Working  \\\n",
       "0  Security staff                     2             59                 4   \n",
       "1     Sales staff                     1             53                 9   \n",
       "2     Sales staff                     1             53                 9   \n",
       "3     Sales staff                     1             53                 9   \n",
       "4     Sales staff                     1             53                 9   \n",
       "\n",
       "   Total_Bad_Debt Total_Bad_Debt_Catg  Total_Good_Debt  Debt_Score  \\\n",
       "0               0         No bad dept               30          30   \n",
       "1               0         No bad dept                5           5   \n",
       "2               0         No bad dept                5           5   \n",
       "3               0         No bad dept               27          27   \n",
       "4               0         No bad dept               39          39   \n",
       "\n",
       "  Debit_Score_Catg  Status  \n",
       "0        Very Good       1  \n",
       "1             Poor       1  \n",
       "2             Poor       1  \n",
       "3             Good       1  \n",
       "4        Very Good       1  "
      ]
     },
     "execution_count": 120,
     "metadata": {},
     "output_type": "execute_result"
    }
   ],
   "source": [
    "ml.head()"
   ]
  },
  {
   "cell_type": "markdown",
   "id": "68500656",
   "metadata": {},
   "source": [
    "### Preprocessing all categorical columns to numericals"
   ]
  },
  {
   "cell_type": "code",
   "execution_count": 121,
   "id": "9869f265",
   "metadata": {},
   "outputs": [
    {
     "name": "stdout",
     "output_type": "stream",
     "text": [
      "Applicant_Gender : 2\n",
      "Total_Income_Catg : 4\n",
      "Income_Type : 5\n",
      "Education_Type : 5\n",
      "Family_Status : 5\n",
      "Housing_Type : 6\n",
      "Job_Title : 18\n",
      "Total_Bad_Debt_Catg : 5\n",
      "Debit_Score_Catg : 5\n"
     ]
    }
   ],
   "source": [
    "for i in ml.columns:\n",
    "    if ml[i].dtype == 'O':\n",
    "        print(i,':',df[i].nunique())"
   ]
  },
  {
   "cell_type": "code",
   "execution_count": 122,
   "id": "7e53cae8",
   "metadata": {},
   "outputs": [],
   "source": [
    "ml['Applicant_Gender'] = ml['Applicant_Gender'].map({'M':1,'F':0})"
   ]
  },
  {
   "cell_type": "code",
   "execution_count": 123,
   "id": "ebd911ce",
   "metadata": {},
   "outputs": [],
   "source": [
    "tic_list = ml['Total_Income_Catg'].unique()\n",
    "tic_id = np.arange(1,len(tic_list)+1)\n",
    "ml['Total_Income_Catg'].replace(to_replace=tic_list, value=tic_id,inplace=True)"
   ]
  },
  {
   "cell_type": "code",
   "execution_count": 124,
   "id": "abe44c55",
   "metadata": {},
   "outputs": [],
   "source": [
    "it_list = ml['Income_Type'].unique()\n",
    "it_id = np.arange(1,len(it_list)+1)\n",
    "ml['Income_Type'].replace(it_list,it_id,True)"
   ]
  },
  {
   "cell_type": "code",
   "execution_count": 125,
   "id": "1dfe2386",
   "metadata": {},
   "outputs": [],
   "source": [
    "et_list = ml['Education_Type'].unique()\n",
    "et_id = np.arange(1,len(et_list)+1)\n",
    "ml['Education_Type'].replace(et_list,et_id,True)"
   ]
  },
  {
   "cell_type": "code",
   "execution_count": 126,
   "id": "1a7f497a",
   "metadata": {},
   "outputs": [],
   "source": [
    "fs_list = ml['Family_Status'].unique()\n",
    "fs_id = np.arange(1,len(fs_list)+1)\n",
    "ml['Family_Status'].replace(fs_list,fs_id,True)"
   ]
  },
  {
   "cell_type": "code",
   "execution_count": 127,
   "id": "8855b725",
   "metadata": {},
   "outputs": [],
   "source": [
    "ht_list = ml['Housing_Type'].unique()\n",
    "ht_id = np.arange(1,len(ht_list)+1)\n",
    "ml['Housing_Type'].replace(ht_list,ht_id,True)"
   ]
  },
  {
   "cell_type": "code",
   "execution_count": 128,
   "id": "4d5b424b",
   "metadata": {},
   "outputs": [],
   "source": [
    "jt_list = ml['Job_Title'].unique()\n",
    "jt_id = np.arange(1,len(jt_list)+1)\n",
    "ml['Job_Title'].replace(jt_list,jt_id,True)"
   ]
  },
  {
   "cell_type": "code",
   "execution_count": 129,
   "id": "48ca61e5",
   "metadata": {},
   "outputs": [],
   "source": [
    "tbc_list = ml.Total_Bad_Debt_Catg.unique()\n",
    "tbc_id = np.arange(1,len(tbc_list)+1)\n",
    "ml['Total_Bad_Debt_Catg'].replace(tbc_list,tbc_id,True)"
   ]
  },
  {
   "cell_type": "code",
   "execution_count": 130,
   "id": "cc43770e",
   "metadata": {},
   "outputs": [],
   "source": [
    "ds_list = ml['Debit_Score_Catg'].unique()\n",
    "ds_id = np.arange(1,len(ds_list)+1)\n",
    "ml['Debit_Score_Catg'].replace(ds_list,ds_id,True)"
   ]
  },
  {
   "cell_type": "code",
   "execution_count": 131,
   "id": "6f390972",
   "metadata": {},
   "outputs": [
    {
     "data": {
      "text/html": [
       "<div>\n",
       "<style scoped>\n",
       "    .dataframe tbody tr th:only-of-type {\n",
       "        vertical-align: middle;\n",
       "    }\n",
       "\n",
       "    .dataframe tbody tr th {\n",
       "        vertical-align: top;\n",
       "    }\n",
       "\n",
       "    .dataframe thead th {\n",
       "        text-align: right;\n",
       "    }\n",
       "</style>\n",
       "<table border=\"1\" class=\"dataframe\">\n",
       "  <thead>\n",
       "    <tr style=\"text-align: right;\">\n",
       "      <th></th>\n",
       "      <th>Applicant_ID</th>\n",
       "      <th>Applicant_Gender</th>\n",
       "      <th>Owned_Car</th>\n",
       "      <th>Owned_Realty</th>\n",
       "      <th>Total_Children</th>\n",
       "      <th>Total_Income</th>\n",
       "      <th>Total_Income_Catg</th>\n",
       "      <th>Income_Type</th>\n",
       "      <th>Education_Type</th>\n",
       "      <th>Family_Status</th>\n",
       "      <th>Housing_Type</th>\n",
       "      <th>Owned_Mobile_Phone</th>\n",
       "      <th>Owned_Work_Phone</th>\n",
       "      <th>Owned_Phone</th>\n",
       "      <th>Owned_Email</th>\n",
       "      <th>Job_Title</th>\n",
       "      <th>Total_Family_Members</th>\n",
       "      <th>Applicant_Age</th>\n",
       "      <th>Years_of_Working</th>\n",
       "      <th>Total_Bad_Debt</th>\n",
       "      <th>Total_Bad_Debt_Catg</th>\n",
       "      <th>Total_Good_Debt</th>\n",
       "      <th>Debt_Score</th>\n",
       "      <th>Debit_Score_Catg</th>\n",
       "      <th>Status</th>\n",
       "    </tr>\n",
       "  </thead>\n",
       "  <tbody>\n",
       "    <tr>\n",
       "      <th>0</th>\n",
       "      <td>5008806</td>\n",
       "      <td>1</td>\n",
       "      <td>1</td>\n",
       "      <td>1</td>\n",
       "      <td>0</td>\n",
       "      <td>112500</td>\n",
       "      <td>1</td>\n",
       "      <td>1</td>\n",
       "      <td>1</td>\n",
       "      <td>1</td>\n",
       "      <td>1</td>\n",
       "      <td>1</td>\n",
       "      <td>0</td>\n",
       "      <td>0</td>\n",
       "      <td>0</td>\n",
       "      <td>1</td>\n",
       "      <td>2</td>\n",
       "      <td>59</td>\n",
       "      <td>4</td>\n",
       "      <td>0</td>\n",
       "      <td>1</td>\n",
       "      <td>30</td>\n",
       "      <td>30</td>\n",
       "      <td>1</td>\n",
       "      <td>1</td>\n",
       "    </tr>\n",
       "    <tr>\n",
       "      <th>1</th>\n",
       "      <td>5008808</td>\n",
       "      <td>0</td>\n",
       "      <td>0</td>\n",
       "      <td>1</td>\n",
       "      <td>0</td>\n",
       "      <td>270000</td>\n",
       "      <td>2</td>\n",
       "      <td>2</td>\n",
       "      <td>1</td>\n",
       "      <td>2</td>\n",
       "      <td>1</td>\n",
       "      <td>1</td>\n",
       "      <td>0</td>\n",
       "      <td>1</td>\n",
       "      <td>1</td>\n",
       "      <td>2</td>\n",
       "      <td>1</td>\n",
       "      <td>53</td>\n",
       "      <td>9</td>\n",
       "      <td>0</td>\n",
       "      <td>1</td>\n",
       "      <td>5</td>\n",
       "      <td>5</td>\n",
       "      <td>2</td>\n",
       "      <td>1</td>\n",
       "    </tr>\n",
       "    <tr>\n",
       "      <th>2</th>\n",
       "      <td>5008809</td>\n",
       "      <td>0</td>\n",
       "      <td>0</td>\n",
       "      <td>1</td>\n",
       "      <td>0</td>\n",
       "      <td>270000</td>\n",
       "      <td>2</td>\n",
       "      <td>2</td>\n",
       "      <td>1</td>\n",
       "      <td>2</td>\n",
       "      <td>1</td>\n",
       "      <td>1</td>\n",
       "      <td>0</td>\n",
       "      <td>1</td>\n",
       "      <td>1</td>\n",
       "      <td>2</td>\n",
       "      <td>1</td>\n",
       "      <td>53</td>\n",
       "      <td>9</td>\n",
       "      <td>0</td>\n",
       "      <td>1</td>\n",
       "      <td>5</td>\n",
       "      <td>5</td>\n",
       "      <td>2</td>\n",
       "      <td>1</td>\n",
       "    </tr>\n",
       "    <tr>\n",
       "      <th>3</th>\n",
       "      <td>5008810</td>\n",
       "      <td>0</td>\n",
       "      <td>0</td>\n",
       "      <td>1</td>\n",
       "      <td>0</td>\n",
       "      <td>270000</td>\n",
       "      <td>2</td>\n",
       "      <td>2</td>\n",
       "      <td>1</td>\n",
       "      <td>2</td>\n",
       "      <td>1</td>\n",
       "      <td>1</td>\n",
       "      <td>0</td>\n",
       "      <td>1</td>\n",
       "      <td>1</td>\n",
       "      <td>2</td>\n",
       "      <td>1</td>\n",
       "      <td>53</td>\n",
       "      <td>9</td>\n",
       "      <td>0</td>\n",
       "      <td>1</td>\n",
       "      <td>27</td>\n",
       "      <td>27</td>\n",
       "      <td>3</td>\n",
       "      <td>1</td>\n",
       "    </tr>\n",
       "    <tr>\n",
       "      <th>4</th>\n",
       "      <td>5008811</td>\n",
       "      <td>0</td>\n",
       "      <td>0</td>\n",
       "      <td>1</td>\n",
       "      <td>0</td>\n",
       "      <td>270000</td>\n",
       "      <td>2</td>\n",
       "      <td>2</td>\n",
       "      <td>1</td>\n",
       "      <td>2</td>\n",
       "      <td>1</td>\n",
       "      <td>1</td>\n",
       "      <td>0</td>\n",
       "      <td>1</td>\n",
       "      <td>1</td>\n",
       "      <td>2</td>\n",
       "      <td>1</td>\n",
       "      <td>53</td>\n",
       "      <td>9</td>\n",
       "      <td>0</td>\n",
       "      <td>1</td>\n",
       "      <td>39</td>\n",
       "      <td>39</td>\n",
       "      <td>1</td>\n",
       "      <td>1</td>\n",
       "    </tr>\n",
       "  </tbody>\n",
       "</table>\n",
       "</div>"
      ],
      "text/plain": [
       "   Applicant_ID  Applicant_Gender  Owned_Car  Owned_Realty  Total_Children  \\\n",
       "0       5008806                 1          1             1               0   \n",
       "1       5008808                 0          0             1               0   \n",
       "2       5008809                 0          0             1               0   \n",
       "3       5008810                 0          0             1               0   \n",
       "4       5008811                 0          0             1               0   \n",
       "\n",
       "   Total_Income  Total_Income_Catg  Income_Type  Education_Type  \\\n",
       "0        112500                  1            1               1   \n",
       "1        270000                  2            2               1   \n",
       "2        270000                  2            2               1   \n",
       "3        270000                  2            2               1   \n",
       "4        270000                  2            2               1   \n",
       "\n",
       "   Family_Status  Housing_Type  Owned_Mobile_Phone  Owned_Work_Phone  \\\n",
       "0              1             1                   1                 0   \n",
       "1              2             1                   1                 0   \n",
       "2              2             1                   1                 0   \n",
       "3              2             1                   1                 0   \n",
       "4              2             1                   1                 0   \n",
       "\n",
       "   Owned_Phone  Owned_Email  Job_Title  Total_Family_Members  Applicant_Age  \\\n",
       "0            0            0          1                     2             59   \n",
       "1            1            1          2                     1             53   \n",
       "2            1            1          2                     1             53   \n",
       "3            1            1          2                     1             53   \n",
       "4            1            1          2                     1             53   \n",
       "\n",
       "   Years_of_Working  Total_Bad_Debt  Total_Bad_Debt_Catg  Total_Good_Debt  \\\n",
       "0                 4               0                    1               30   \n",
       "1                 9               0                    1                5   \n",
       "2                 9               0                    1                5   \n",
       "3                 9               0                    1               27   \n",
       "4                 9               0                    1               39   \n",
       "\n",
       "   Debt_Score  Debit_Score_Catg  Status  \n",
       "0          30                 1       1  \n",
       "1           5                 2       1  \n",
       "2           5                 2       1  \n",
       "3          27                 3       1  \n",
       "4          39                 1       1  "
      ]
     },
     "execution_count": 131,
     "metadata": {},
     "output_type": "execute_result"
    }
   ],
   "source": [
    "ml.head()"
   ]
  },
  {
   "cell_type": "code",
   "execution_count": 132,
   "id": "b9f9cec9",
   "metadata": {},
   "outputs": [],
   "source": [
    "ml.drop('Applicant_ID',axis=1,inplace=True)"
   ]
  },
  {
   "cell_type": "code",
   "execution_count": null,
   "id": "ef73b932",
   "metadata": {},
   "outputs": [],
   "source": []
  },
  {
   "cell_type": "code",
   "execution_count": 133,
   "id": "348d9476",
   "metadata": {},
   "outputs": [],
   "source": [
    "x = ml.drop('Status',axis=1)\n",
    "y = ml.Status"
   ]
  },
  {
   "cell_type": "code",
   "execution_count": 134,
   "id": "9d3f6671",
   "metadata": {},
   "outputs": [],
   "source": [
    "xtrain,xtest,ytrain,ytest = train_test_split(x,y,test_size=0.15,random_state=42)"
   ]
  },
  {
   "cell_type": "code",
   "execution_count": 135,
   "id": "5b5b64a2",
   "metadata": {},
   "outputs": [],
   "source": [
    "## models\n",
    "lr = LogisticRegression()\n",
    "kn = KNeighborsClassifier()\n",
    "dt = DecisionTreeClassifier()\n",
    "rf = RandomForestClassifier()\n",
    "gb = GradientBoostingClassifier()\n",
    "xgb = XGBClassifier()\n",
    "xgbrf = XGBRFClassifier()\n",
    "cat = CatBoostClassifier(verbose=False)\n",
    "lgb = LGBMClassifier()"
   ]
  },
  {
   "cell_type": "markdown",
   "id": "3191ebe3",
   "metadata": {},
   "source": [
    "### Logistics Regression"
   ]
  },
  {
   "cell_type": "code",
   "execution_count": 136,
   "id": "521cebe3",
   "metadata": {},
   "outputs": [
    {
     "data": {
      "image/png": "[encoded data removed]",
      "text/plain": [
       "<Figure size 432x288 with 1 Axes>"
      ]
     },
     "metadata": {
      "needs_background": "light"
     },
     "output_type": "display_data"
    },
    {
     "name": "stdout",
     "output_type": "stream",
     "text": [
      "Accuracy : 1.0\n",
      "\n",
      "ROC AUC Score : 1.0\n",
      "\n",
      "Conf. Matrix :\n",
      "\n",
      " [[  20    0]\n",
      " [   0 3750]]\n",
      "\n",
      "Classification Report :\n",
      "\n",
      "               precision    recall  f1-score   support\n",
      "\n",
      "           0       1.00      1.00      1.00        20\n",
      "           1       1.00      1.00      1.00      3750\n",
      "\n",
      "    accuracy                           1.00      3770\n",
      "   macro avg       1.00      1.00      1.00      3770\n",
      "weighted avg       1.00      1.00      1.00      3770\n",
      "\n"
     ]
    }
   ],
   "source": [
    "lr.fit(xtrain,ytrain)\n",
    "lr_test_pred = lr.predict(xtest)\n",
    "lr_test_pp = lr.predict_proba(xtest)\n",
    "lr_test_pp = lr_test_pp[:,1]\n",
    "## roccurve\n",
    "fpr,tpr,thres = roc_curve(ytest,lr_test_pp)\n",
    "plt.plot(fpr,tpr,marker='.',linestyle='-',label='model')\n",
    "plt.plot([0,1],linestyle='--',label='50% line')\n",
    "plt.grid()\n",
    "plt.show()\n",
    "lr_test_acc = accuracy_score(ytest,lr_test_pred)\n",
    "lr_conf_mat = confusion_matrix(ytest,lr_test_pred)\n",
    "lr_cr = classification_report(ytest,lr_test_pred)\n",
    "\n",
    "print('Accuracy :',lr_test_acc)\n",
    "print('\\nROC AUC Score :',roc_auc_score(ytest,lr_test_pp))\n",
    "print('\\nConf. Matrix :\\n\\n',lr_conf_mat)\n",
    "print('\\nClassification Report :\\n\\n',lr_cr)"
   ]
  },
  {
   "cell_type": "code",
   "execution_count": null,
   "id": "e1a03893",
   "metadata": {},
   "outputs": [],
   "source": []
  },
  {
   "cell_type": "markdown",
   "id": "557d87cd",
   "metadata": {},
   "source": [
    "### KNN"
   ]
  },
  {
   "cell_type": "code",
   "execution_count": 137,
   "id": "20c1190b",
   "metadata": {},
   "outputs": [
    {
     "data": {
      "image/png": "[encoded data removed]",
      "text/plain": [
       "<Figure size 432x288 with 1 Axes>"
      ]
     },
     "metadata": {
      "needs_background": "light"
     },
     "output_type": "display_data"
    },
    {
     "name": "stdout",
     "output_type": "stream",
     "text": [
      "Accuracy : 0.9957559681697613\n",
      "\n",
      "ROC AUC Score : 0.8493933333333333\n",
      "\n",
      "Conf. Matrix :\n",
      "\n",
      " [[   4   16]\n",
      " [   0 3750]]\n",
      "\n",
      "Classification Report :\n",
      "\n",
      "               precision    recall  f1-score   support\n",
      "\n",
      "           0       1.00      0.20      0.33        20\n",
      "           1       1.00      1.00      1.00      3750\n",
      "\n",
      "    accuracy                           1.00      3770\n",
      "   macro avg       1.00      0.60      0.67      3770\n",
      "weighted avg       1.00      1.00      0.99      3770\n",
      "\n"
     ]
    }
   ],
   "source": [
    "kn.fit(xtrain,ytrain)\n",
    "kn_test_pred = kn.predict(xtest)\n",
    "kn_test_pp = kn.predict_proba(xtest)\n",
    "kn_test_pp = kn_test_pp[:,1]\n",
    "## roccurve\n",
    "fpr,tpr,thres = roc_curve(ytest,kn_test_pp)\n",
    "plt.plot(fpr,tpr,marker='.',linestyle='-',label='model')\n",
    "plt.plot([0,1],linestyle='--',label='50% line')\n",
    "plt.grid()\n",
    "plt.show()\n",
    "kn_test_acc = accuracy_score(ytest,kn_test_pred)\n",
    "kn_conf_mat = confusion_matrix(ytest,kn_test_pred)\n",
    "kn_cr = classification_report(ytest,kn_test_pred)\n",
    "\n",
    "print('Accuracy :',kn_test_acc)\n",
    "print('\\nROC AUC Score :',roc_auc_score(ytest,kn_test_pp))\n",
    "print('\\nConf. Matrix :\\n\\n',kn_conf_mat)\n",
    "print('\\nClassification Report :\\n\\n',kn_cr)"
   ]
  },
  {
   "cell_type": "code",
   "execution_count": null,
   "id": "fcf424d3",
   "metadata": {},
   "outputs": [],
   "source": []
  },
  {
   "cell_type": "markdown",
   "id": "1a969856",
   "metadata": {},
   "source": [
    "### Decision Tree"
   ]
  },
  {
   "cell_type": "code",
   "execution_count": 138,
   "id": "97b0357d",
   "metadata": {},
   "outputs": [
    {
     "data": {
      "image/png": "[encoded data removed]",
      "text/plain": [
       "<Figure size 432x288 with 1 Axes>"
      ]
     },
     "metadata": {
      "needs_background": "light"
     },
     "output_type": "display_data"
    },
    {
     "name": "stdout",
     "output_type": "stream",
     "text": [
      "Accuracy : 1.0\n",
      "\n",
      "ROC AUC Score : 1.0\n",
      "\n",
      "Conf. Matrix :\n",
      "\n",
      " [[  20    0]\n",
      " [   0 3750]]\n",
      "\n",
      "Classification Report :\n",
      "\n",
      "               precision    recall  f1-score   support\n",
      "\n",
      "           0       1.00      1.00      1.00        20\n",
      "           1       1.00      1.00      1.00      3750\n",
      "\n",
      "    accuracy                           1.00      3770\n",
      "   macro avg       1.00      1.00      1.00      3770\n",
      "weighted avg       1.00      1.00      1.00      3770\n",
      "\n",
      "\n",
      "Feature Importances : [0. 0. 0. 0. 0. 0. 0. 0. 0. 0. 0. 0. 0. 0. 0. 0. 0. 0. 0. 0. 0. 0. 1.]\n"
     ]
    }
   ],
   "source": [
    "dt.fit(xtrain,ytrain)\n",
    "dt_test_pred = dt.predict(xtest)\n",
    "dt_test_pp = dt.predict_proba(xtest)\n",
    "dt_test_pp = dt_test_pp[:,1]\n",
    "## roccurve\n",
    "fpr,tpr,thres = roc_curve(ytest,dt_test_pp)\n",
    "plt.plot(fpr,tpr,marker='.',linestyle='-',label='model')\n",
    "plt.plot([0,1],linestyle='--',label='50% line')\n",
    "plt.grid()\n",
    "plt.show()\n",
    "dt_test_acc = accuracy_score(ytest,dt_test_pred)\n",
    "dt_conf_mat = confusion_matrix(ytest,dt_test_pred)\n",
    "dt_cr = classification_report(ytest,dt_test_pred)\n",
    "\n",
    "print('Accuracy :',dt_test_acc)\n",
    "print('\\nROC AUC Score :',roc_auc_score(ytest,dt_test_pp))\n",
    "print('\\nConf. Matrix :\\n\\n',dt_conf_mat)\n",
    "print('\\nClassification Report :\\n\\n',dt_cr)\n",
    "\n",
    "print('\\nFeature Importances :',dt.feature_importances_)"
   ]
  },
  {
   "cell_type": "code",
   "execution_count": null,
   "id": "8db77def",
   "metadata": {},
   "outputs": [],
   "source": []
  },
  {
   "cell_type": "markdown",
   "id": "b4b20e64",
   "metadata": {},
   "source": [
    "### Random Forest"
   ]
  },
  {
   "cell_type": "code",
   "execution_count": 139,
   "id": "f4960971",
   "metadata": {},
   "outputs": [
    {
     "data": {
      "image/png": "[encoded data removed]",
      "text/plain": [
       "<Figure size 432x288 with 1 Axes>"
      ]
     },
     "metadata": {
      "needs_background": "light"
     },
     "output_type": "display_data"
    },
    {
     "name": "stdout",
     "output_type": "stream",
     "text": [
      "Accuracy : 1.0\n",
      "\n",
      "ROC AUC Score : 1.0\n",
      "\n",
      "Conf. Matrix :\n",
      "\n",
      " [[  20    0]\n",
      " [   0 3750]]\n",
      "\n",
      "Classification Report :\n",
      "\n",
      "               precision    recall  f1-score   support\n",
      "\n",
      "           0       1.00      1.00      1.00        20\n",
      "           1       1.00      1.00      1.00      3750\n",
      "\n",
      "    accuracy                           1.00      3770\n",
      "   macro avg       1.00      1.00      1.00      3770\n",
      "weighted avg       1.00      1.00      1.00      3770\n",
      "\n",
      "\n",
      "Feature Importances : [6.52455686e-04 1.14108521e-04 5.65205795e-04 1.17263634e-03\n",
      " 4.38196468e-03 1.27645936e-03 4.04455884e-03 1.07576662e-03\n",
      " 6.19481223e-04 4.64873445e-04 0.00000000e+00 5.60683614e-04\n",
      " 2.07238233e-04 6.28563135e-04 4.53069432e-03 1.25788345e-03\n",
      " 4.17293811e-03 3.78453292e-03 6.96594420e-02 4.40670448e-02\n",
      " 3.76655737e-02 4.35804159e-01 3.83293736e-01]\n"
     ]
    }
   ],
   "source": [
    "rf.fit(xtrain,ytrain)\n",
    "rf_test_pred = rf.predict(xtest)\n",
    "rf_test_pp = rf.predict_proba(xtest)\n",
    "rf_test_pp = rf_test_pp[:,1]\n",
    "## roccurve\n",
    "fpr,tpr,thres = roc_curve(ytest,rf_test_pp)\n",
    "plt.plot(fpr,tpr,marker='.',linestyle='-',label='model')\n",
    "plt.plot([0,1],linestyle='--',label='50% line')\n",
    "plt.grid()\n",
    "plt.show()\n",
    "rf_test_acc = accuracy_score(ytest,rf_test_pred)\n",
    "rf_conf_mat = confusion_matrix(ytest,rf_test_pred)\n",
    "rf_cr = classification_report(ytest,rf_test_pred)\n",
    "\n",
    "print('Accuracy :',rf_test_acc)\n",
    "print('\\nROC AUC Score :',roc_auc_score(ytest,rf_test_pp))\n",
    "print('\\nConf. Matrix :\\n\\n',rf_conf_mat)\n",
    "print('\\nClassification Report :\\n\\n',rf_cr)\n",
    "\n",
    "print('\\nFeature Importances :',rf.feature_importances_)"
   ]
  },
  {
   "cell_type": "code",
   "execution_count": null,
   "id": "4d368ff2",
   "metadata": {},
   "outputs": [],
   "source": []
  },
  {
   "cell_type": "markdown",
   "id": "a74a5f9a",
   "metadata": {},
   "source": [
    "### Gradient Boosting"
   ]
  },
  {
   "cell_type": "code",
   "execution_count": 140,
   "id": "bc1465ad",
   "metadata": {},
   "outputs": [
    {
     "data": {
      "image/png": "[encoded data removed]",
      "text/plain": [
       "<Figure size 432x288 with 1 Axes>"
      ]
     },
     "metadata": {
      "needs_background": "light"
     },
     "output_type": "display_data"
    },
    {
     "name": "stdout",
     "output_type": "stream",
     "text": [
      "Accuracy : 1.0\n",
      "\n",
      "ROC AUC Score : 1.0\n",
      "\n",
      "Conf. Matrix :\n",
      "\n",
      " [[  20    0]\n",
      " [   0 3750]]\n",
      "\n",
      "Classification Report :\n",
      "\n",
      "               precision    recall  f1-score   support\n",
      "\n",
      "           0       1.00      1.00      1.00        20\n",
      "           1       1.00      1.00      1.00      3750\n",
      "\n",
      "    accuracy                           1.00      3770\n",
      "   macro avg       1.00      1.00      1.00      3770\n",
      "weighted avg       1.00      1.00      1.00      3770\n",
      "\n",
      "\n",
      "Feature Importances : [0.00000000e+00 0.00000000e+00 0.00000000e+00 0.00000000e+00\n",
      " 0.00000000e+00 0.00000000e+00 0.00000000e+00 0.00000000e+00\n",
      " 0.00000000e+00 0.00000000e+00 0.00000000e+00 0.00000000e+00\n",
      " 0.00000000e+00 0.00000000e+00 0.00000000e+00 0.00000000e+00\n",
      " 0.00000000e+00 0.00000000e+00 0.00000000e+00 0.00000000e+00\n",
      " 0.00000000e+00 3.06872328e-05 9.99969313e-01]\n"
     ]
    }
   ],
   "source": [
    "gb.fit(xtrain,ytrain)\n",
    "gb_test_pred = gb.predict(xtest)\n",
    "gb_test_pp = gb.predict_proba(xtest)\n",
    "gb_test_pp = gb_test_pp[:,1]\n",
    "## roccurve\n",
    "fpr,tpr,thres = roc_curve(ytest,gb_test_pp)\n",
    "plt.plot(fpr,tpr,marker='.',linestyle='-',label='model')\n",
    "plt.plot([0,1],linestyle='--',label='50% line')\n",
    "plt.grid()\n",
    "plt.show()\n",
    "gb_test_acc = accuracy_score(ytest,gb_test_pred)\n",
    "gb_conf_mat = confusion_matrix(ytest,gb_test_pred)\n",
    "gb_cr = classification_report(ytest,gb_test_pred)\n",
    "\n",
    "print('Accuracy :',gb_test_acc)\n",
    "print('\\nROC AUC Score :',roc_auc_score(ytest,gb_test_pp))\n",
    "print('\\nConf. Matrix :\\n\\n',gb_conf_mat)\n",
    "print('\\nClassification Report :\\n\\n',gb_cr)\n",
    "\n",
    "print('\\nFeature Importances :',gb.feature_importances_)"
   ]
  },
  {
   "cell_type": "code",
   "execution_count": null,
   "id": "970badda",
   "metadata": {},
   "outputs": [],
   "source": []
  },
  {
   "cell_type": "markdown",
   "id": "a75d4a32",
   "metadata": {},
   "source": [
    "### XGB"
   ]
  },
  {
   "cell_type": "code",
   "execution_count": 141,
   "id": "ced9b15b",
   "metadata": {},
   "outputs": [
    {
     "name": "stdout",
     "output_type": "stream",
     "text": [
      "[11:50:08] WARNING: ../src/learner.cc:1115: Starting in XGBoost 1.3.0, the default evaluation metric used with the objective 'binary:logistic' was changed from 'error' to 'logloss'. Explicitly set eval_metric if you'd like to restore the old behavior.\n"
     ]
    },
    {
     "data": {
      "image/png": "[encoded data removed]",
      "text/plain": [
       "<Figure size 432x288 with 1 Axes>"
      ]
     },
     "metadata": {
      "needs_background": "light"
     },
     "output_type": "display_data"
    },
    {
     "name": "stdout",
     "output_type": "stream",
     "text": [
      "Accuracy : 1.0\n",
      "\n",
      "ROC AUC Score : 1.0\n",
      "\n",
      "Conf. Matrix :\n",
      "\n",
      " [[  20    0]\n",
      " [   0 3750]]\n",
      "\n",
      "Classification Report :\n",
      "\n",
      "               precision    recall  f1-score   support\n",
      "\n",
      "           0       1.00      1.00      1.00        20\n",
      "           1       1.00      1.00      1.00      3750\n",
      "\n",
      "    accuracy                           1.00      3770\n",
      "   macro avg       1.00      1.00      1.00      3770\n",
      "weighted avg       1.00      1.00      1.00      3770\n",
      "\n",
      "\n",
      "Feature Importances :\n",
      " [0.         0.         0.         0.         0.         0.\n",
      " 0.         0.         0.         0.         0.         0.\n",
      " 0.         0.         0.         0.         0.         0.\n",
      " 0.02335678 0.         0.         0.9611317  0.01551156]\n"
     ]
    }
   ],
   "source": [
    "xgb.fit(xtrain,ytrain)\n",
    "xgb_test_pred = xgb.predict(xtest)\n",
    "xgb_test_pp = xgb.predict_proba(xtest)\n",
    "xgb_test_pp = xgb_test_pp[:,1]\n",
    "## roccurve\n",
    "fpr,tpr,thres = roc_curve(ytest,xgb_test_pp)\n",
    "plt.plot(fpr,tpr,marker='.',linestyle='-',label='model')\n",
    "plt.plot([0,1],linestyle='--',label='50% line')\n",
    "plt.grid()\n",
    "plt.show()\n",
    "xgb_test_acc = accuracy_score(ytest,xgb_test_pred)\n",
    "xgb_conf_mat = confusion_matrix(ytest,xgb_test_pred)\n",
    "xgb_cr = classification_report(ytest,xgb_test_pred)\n",
    "\n",
    "print('Accuracy :',xgb_test_acc)\n",
    "print('\\nROC AUC Score :',roc_auc_score(ytest,xgb_test_pp))\n",
    "print('\\nConf. Matrix :\\n\\n',xgb_conf_mat)\n",
    "print('\\nClassification Report :\\n\\n',xgb_cr)\n",
    "\n",
    "print('\\nFeature Importances :\\n',xgb.feature_importances_)"
   ]
  },
  {
   "cell_type": "code",
   "execution_count": null,
   "id": "93171714",
   "metadata": {},
   "outputs": [],
   "source": []
  },
  {
   "cell_type": "markdown",
   "id": "0911eb94",
   "metadata": {},
   "source": [
    "### XGBRF"
   ]
  },
  {
   "cell_type": "code",
   "execution_count": 142,
   "id": "85ff6c03",
   "metadata": {},
   "outputs": [
    {
     "name": "stdout",
     "output_type": "stream",
     "text": [
      "[11:50:16] WARNING: ../src/learner.cc:1115: Starting in XGBoost 1.3.0, the default evaluation metric used with the objective 'binary:logistic' was changed from 'error' to 'logloss'. Explicitly set eval_metric if you'd like to restore the old behavior.\n"
     ]
    },
    {
     "data": {
      "image/png": "[encoded data removed]",
      "text/plain": [
       "<Figure size 432x288 with 1 Axes>"
      ]
     },
     "metadata": {
      "needs_background": "light"
     },
     "output_type": "display_data"
    },
    {
     "name": "stdout",
     "output_type": "stream",
     "text": [
      "Accuracy : 1.0\n",
      "\n",
      "ROC AUC Score : 1.0\n",
      "\n",
      "Conf. Matrix :\n",
      "\n",
      " [[  20    0]\n",
      " [   0 3750]]\n",
      "\n",
      "Classification Report :\n",
      "\n",
      "               precision    recall  f1-score   support\n",
      "\n",
      "           0       1.00      1.00      1.00        20\n",
      "           1       1.00      1.00      1.00      3750\n",
      "\n",
      "    accuracy                           1.00      3770\n",
      "   macro avg       1.00      1.00      1.00      3770\n",
      "weighted avg       1.00      1.00      1.00      3770\n",
      "\n",
      "\n",
      "Feature Importances :\n",
      " [0.         0.         0.         0.         0.         0.\n",
      " 0.         0.         0.         0.         0.         0.\n",
      " 0.         0.         0.         0.         0.         0.\n",
      " 0.08452339 0.07157137 0.         0.43633753 0.40756768]\n"
     ]
    }
   ],
   "source": [
    "\n",
    "xgbrf.fit(xtrain,ytrain)\n",
    "xgbrf_test_pred = xgbrf.predict(xtest)\n",
    "xgbrf_test_pp = xgbrf.predict_proba(xtest)\n",
    "xgbrf_test_pp = xgbrf_test_pp[:,1]\n",
    "## roccurve\n",
    "fpr,tpr,thres = roc_curve(ytest,xgbrf_test_pp)\n",
    "plt.plot(fpr,tpr,marker='.',linestyle='-',label='model')\n",
    "plt.plot([0,1],linestyle='--',label='50% line')\n",
    "plt.grid()\n",
    "plt.show()\n",
    "xgbrf_test_acc = accuracy_score(ytest,xgbrf_test_pred)\n",
    "xgbrf_conf_mat = confusion_matrix(ytest,xgbrf_test_pred)\n",
    "xgbrf_cr = classification_report(ytest,xgbrf_test_pred)\n",
    "\n",
    "print('Accuracy :',xgbrf_test_acc)\n",
    "print('\\nROC AUC Score :',roc_auc_score(ytest,xgbrf_test_pp))\n",
    "print('\\nConf. Matrix :\\n\\n',xgbrf_conf_mat)\n",
    "print('\\nClassification Report :\\n\\n',xgbrf_cr)\n",
    "\n",
    "print('\\nFeature Importances :\\n',xgbrf.feature_importances_)"
   ]
  },
  {
   "cell_type": "code",
   "execution_count": null,
   "id": "61b22146",
   "metadata": {},
   "outputs": [],
   "source": []
  },
  {
   "cell_type": "markdown",
   "id": "c216407a",
   "metadata": {},
   "source": [
    "### CAT"
   ]
  },
  {
   "cell_type": "code",
   "execution_count": 143,
   "id": "57099c5a",
   "metadata": {},
   "outputs": [
    {
     "data": {
      "image/png": "[encoded data removed]",
      "text/plain": [
       "<Figure size 432x288 with 1 Axes>"
      ]
     },
     "metadata": {
      "needs_background": "light"
     },
     "output_type": "display_data"
    },
    {
     "name": "stdout",
     "output_type": "stream",
     "text": [
      "Accuracy : 1.0\n",
      "\n",
      "ROC AUC Score : 1.0\n",
      "\n",
      "Conf. Matrix :\n",
      "\n",
      " [[  20    0]\n",
      " [   0 3750]]\n",
      "\n",
      "Classification Report :\n",
      "\n",
      "               precision    recall  f1-score   support\n",
      "\n",
      "           0       1.00      1.00      1.00        20\n",
      "           1       1.00      1.00      1.00      3750\n",
      "\n",
      "    accuracy                           1.00      3770\n",
      "   macro avg       1.00      1.00      1.00      3770\n",
      "weighted avg       1.00      1.00      1.00      3770\n",
      "\n",
      "\n",
      "Feature Importances :\n",
      " [2.30513166e-01 4.13496332e-03 1.83782146e-01 2.90921566e+00\n",
      " 3.87888819e+00 2.57993669e+00 1.52902615e+00 2.86431044e+00\n",
      " 4.65368339e+00 2.68763247e+00 0.00000000e+00 7.68173575e-01\n",
      " 6.05218669e-01 1.94017917e+00 5.81180473e+00 3.07240489e+00\n",
      " 2.54327708e+00 4.08774318e+00 4.28890175e+00 1.40555514e+01\n",
      " 5.78455853e+00 1.58929523e+01 1.96281114e+01]\n"
     ]
    }
   ],
   "source": [
    "cat.fit(xtrain,ytrain)\n",
    "cat_test_pred = cat.predict(xtest)\n",
    "cat_test_pp = cat.predict_proba(xtest)\n",
    "cat_test_pp = cat_test_pp[:,1]\n",
    "## roccurve\n",
    "fpr,tpr,thres = roc_curve(ytest,cat_test_pp)\n",
    "plt.plot(fpr,tpr,marker='.',linestyle='-',label='model')\n",
    "plt.plot([0,1],linestyle='--',label='50% line')\n",
    "plt.grid()\n",
    "plt.show()\n",
    "cat_test_acc = accuracy_score(ytest,cat_test_pred)\n",
    "cat_conf_mat = confusion_matrix(ytest,cat_test_pred)\n",
    "cat_cr = classification_report(ytest,cat_test_pred)\n",
    "\n",
    "print('Accuracy :',cat_test_acc)\n",
    "print('\\nROC AUC Score :',roc_auc_score(ytest,cat_test_pp))\n",
    "print('\\nConf. Matrix :\\n\\n',cat_conf_mat)\n",
    "print('\\nClassification Report :\\n\\n',cat_cr)\n",
    "\n",
    "print('\\nFeature Importances :\\n',cat.feature_importances_)"
   ]
  },
  {
   "cell_type": "code",
   "execution_count": null,
   "id": "1bfd7478",
   "metadata": {},
   "outputs": [],
   "source": []
  },
  {
   "cell_type": "markdown",
   "id": "c5c4ac56",
   "metadata": {},
   "source": [
    "### Light GBM"
   ]
  },
  {
   "cell_type": "code",
   "execution_count": 144,
   "id": "6892018e",
   "metadata": {},
   "outputs": [
    {
     "data": {
      "image/png": "[encoded data removed]",
      "text/plain": [
       "<Figure size 432x288 with 1 Axes>"
      ]
     },
     "metadata": {
      "needs_background": "light"
     },
     "output_type": "display_data"
    },
    {
     "name": "stdout",
     "output_type": "stream",
     "text": [
      "Accuracy : 1.0\n",
      "\n",
      "ROC AUC Score : 1.0\n",
      "\n",
      "Conf. Matrix :\n",
      "\n",
      " [[  20    0]\n",
      " [   0 3750]]\n",
      "\n",
      "Classification Report :\n",
      "\n",
      "               precision    recall  f1-score   support\n",
      "\n",
      "           0       1.00      1.00      1.00        20\n",
      "           1       1.00      1.00      1.00      3750\n",
      "\n",
      "    accuracy                           1.00      3770\n",
      "   macro avg       1.00      1.00      1.00      3770\n",
      "weighted avg       1.00      1.00      1.00      3770\n",
      "\n",
      "\n",
      "Feature Importances :\n",
      " [ 19  14   7  27 155   9   0   2   2   2   0   2   7   0   7   1  39  29\n",
      " 214   0 101 114   0]\n"
     ]
    }
   ],
   "source": [
    "lgb.fit(xtrain,ytrain)\n",
    "lgb_test_pred = lgb.predict(xtest)\n",
    "lgb_test_pp = lgb.predict_proba(xtest)\n",
    "lgb_test_pp = lgb_test_pp[:,1]\n",
    "## roccurve\n",
    "fpr,tpr,thres = roc_curve(ytest,lgb_test_pp)\n",
    "plt.plot(fpr,tpr,marker='.',linestyle='-',label='model')\n",
    "plt.plot([0,1],linestyle='--',label='50% line')\n",
    "plt.grid()\n",
    "plt.show()\n",
    "lgb_test_acc = accuracy_score(ytest,lgb_test_pred)\n",
    "lgb_conf_mat = confusion_matrix(ytest,lgb_test_pred)\n",
    "lgb_cr = classification_report(ytest,lgb_test_pred)\n",
    "\n",
    "print('Accuracy :',lgb_test_acc)\n",
    "print('\\nROC AUC Score :',roc_auc_score(ytest,lgb_test_pp))\n",
    "print('\\nConf. Matrix :\\n\\n',lgb_conf_mat)\n",
    "print('\\nClassification Report :\\n\\n',lgb_cr)\n",
    "\n",
    "print('\\nFeature Importances :\\n',lgb.feature_importances_)"
   ]
  },
  {
   "cell_type": "code",
   "execution_count": null,
   "id": "79a73347",
   "metadata": {},
   "outputs": [],
   "source": []
  },
  {
   "cell_type": "markdown",
   "id": "4d4be30d",
   "metadata": {},
   "source": [
    "### Lets now take the Ensemble of all the Good performing models"
   ]
  },
  {
   "cell_type": "code",
   "execution_count": 145,
   "id": "1e401c37",
   "metadata": {},
   "outputs": [],
   "source": [
    "lr_test_pp = lr_test_pp.tolist()\n",
    "dt_test_pp = dt_test_pp.tolist()\n",
    "rf_test_pp = rf_test_pp.tolist()\n",
    "gb_test_pp = gb_test_pp.tolist()\n",
    "xgb_test_pp = xgb_test_pp.tolist()\n",
    "xgbrf_test_pp = xgbrf_test_pp.tolist()\n",
    "cat_test_pp = cat_test_pp.tolist()\n",
    "lgb_test_pp = lgb_test_pp.tolist()"
   ]
  },
  {
   "cell_type": "code",
   "execution_count": 150,
   "id": "d324ffbe",
   "metadata": {},
   "outputs": [],
   "source": [
    "mean_proba = pd.DataFrame({'lr':lr_test_pp,'dt':dt_test_pp,'rf':rf_test_pp,'gb':gb_test_pp,\n",
    "                           'xgb':xgb_test_pp,'xgbrf':xgbrf_test_pp,'cat':cat_test_pp,'lgb':lgb_test_pp})"
   ]
  },
  {
   "cell_type": "code",
   "execution_count": 151,
   "id": "dba7dfef",
   "metadata": {},
   "outputs": [
    {
     "data": {
      "text/html": [
       "<div>\n",
       "<style scoped>\n",
       "    .dataframe tbody tr th:only-of-type {\n",
       "        vertical-align: middle;\n",
       "    }\n",
       "\n",
       "    .dataframe tbody tr th {\n",
       "        vertical-align: top;\n",
       "    }\n",
       "\n",
       "    .dataframe thead th {\n",
       "        text-align: right;\n",
       "    }\n",
       "</style>\n",
       "<table border=\"1\" class=\"dataframe\">\n",
       "  <thead>\n",
       "    <tr style=\"text-align: right;\">\n",
       "      <th></th>\n",
       "      <th>lr</th>\n",
       "      <th>dt</th>\n",
       "      <th>rf</th>\n",
       "      <th>gb</th>\n",
       "      <th>xgb</th>\n",
       "      <th>xgbrf</th>\n",
       "      <th>cat</th>\n",
       "      <th>lgb</th>\n",
       "    </tr>\n",
       "  </thead>\n",
       "  <tbody>\n",
       "    <tr>\n",
       "      <th>0</th>\n",
       "      <td>1.000000</td>\n",
       "      <td>1.0</td>\n",
       "      <td>1.0</td>\n",
       "      <td>1.0</td>\n",
       "      <td>0.999960</td>\n",
       "      <td>0.880797</td>\n",
       "      <td>0.999975</td>\n",
       "      <td>1.0</td>\n",
       "    </tr>\n",
       "    <tr>\n",
       "      <th>1</th>\n",
       "      <td>1.000000</td>\n",
       "      <td>1.0</td>\n",
       "      <td>1.0</td>\n",
       "      <td>1.0</td>\n",
       "      <td>0.999975</td>\n",
       "      <td>0.880797</td>\n",
       "      <td>0.999970</td>\n",
       "      <td>1.0</td>\n",
       "    </tr>\n",
       "    <tr>\n",
       "      <th>2</th>\n",
       "      <td>0.999929</td>\n",
       "      <td>1.0</td>\n",
       "      <td>1.0</td>\n",
       "      <td>1.0</td>\n",
       "      <td>0.999975</td>\n",
       "      <td>0.880797</td>\n",
       "      <td>0.999946</td>\n",
       "      <td>1.0</td>\n",
       "    </tr>\n",
       "    <tr>\n",
       "      <th>3</th>\n",
       "      <td>1.000000</td>\n",
       "      <td>1.0</td>\n",
       "      <td>1.0</td>\n",
       "      <td>1.0</td>\n",
       "      <td>0.999975</td>\n",
       "      <td>0.880797</td>\n",
       "      <td>0.999967</td>\n",
       "      <td>1.0</td>\n",
       "    </tr>\n",
       "    <tr>\n",
       "      <th>4</th>\n",
       "      <td>1.000000</td>\n",
       "      <td>1.0</td>\n",
       "      <td>1.0</td>\n",
       "      <td>1.0</td>\n",
       "      <td>0.999975</td>\n",
       "      <td>0.880797</td>\n",
       "      <td>0.999944</td>\n",
       "      <td>1.0</td>\n",
       "    </tr>\n",
       "  </tbody>\n",
       "</table>\n",
       "</div>"
      ],
      "text/plain": [
       "         lr   dt   rf   gb       xgb     xgbrf       cat  lgb\n",
       "0  1.000000  1.0  1.0  1.0  0.999960  0.880797  0.999975  1.0\n",
       "1  1.000000  1.0  1.0  1.0  0.999975  0.880797  0.999970  1.0\n",
       "2  0.999929  1.0  1.0  1.0  0.999975  0.880797  0.999946  1.0\n",
       "3  1.000000  1.0  1.0  1.0  0.999975  0.880797  0.999967  1.0\n",
       "4  1.000000  1.0  1.0  1.0  0.999975  0.880797  0.999944  1.0"
      ]
     },
     "execution_count": 151,
     "metadata": {},
     "output_type": "execute_result"
    }
   ],
   "source": [
    "mean_proba.head()"
   ]
  },
  {
   "cell_type": "code",
   "execution_count": 152,
   "id": "6b6402a4",
   "metadata": {},
   "outputs": [],
   "source": [
    "mean_probas = []\n",
    "for i in mean_proba.index:\n",
    "    mean_probas.append(mean_proba.iloc[i].mean())\n",
    "mean_proba['mean_probas'] = mean_probas"
   ]
  },
  {
   "cell_type": "code",
   "execution_count": 153,
   "id": "2a687f71",
   "metadata": {},
   "outputs": [
    {
     "data": {
      "text/html": [
       "<div>\n",
       "<style scoped>\n",
       "    .dataframe tbody tr th:only-of-type {\n",
       "        vertical-align: middle;\n",
       "    }\n",
       "\n",
       "    .dataframe tbody tr th {\n",
       "        vertical-align: top;\n",
       "    }\n",
       "\n",
       "    .dataframe thead th {\n",
       "        text-align: right;\n",
       "    }\n",
       "</style>\n",
       "<table border=\"1\" class=\"dataframe\">\n",
       "  <thead>\n",
       "    <tr style=\"text-align: right;\">\n",
       "      <th></th>\n",
       "      <th>lr</th>\n",
       "      <th>dt</th>\n",
       "      <th>rf</th>\n",
       "      <th>gb</th>\n",
       "      <th>xgb</th>\n",
       "      <th>xgbrf</th>\n",
       "      <th>cat</th>\n",
       "      <th>lgb</th>\n",
       "      <th>mean_probas</th>\n",
       "    </tr>\n",
       "  </thead>\n",
       "  <tbody>\n",
       "    <tr>\n",
       "      <th>0</th>\n",
       "      <td>1.000000</td>\n",
       "      <td>1.0</td>\n",
       "      <td>1.0</td>\n",
       "      <td>1.0</td>\n",
       "      <td>0.999960</td>\n",
       "      <td>0.880797</td>\n",
       "      <td>0.999975</td>\n",
       "      <td>1.0</td>\n",
       "      <td>0.985091</td>\n",
       "    </tr>\n",
       "    <tr>\n",
       "      <th>1</th>\n",
       "      <td>1.000000</td>\n",
       "      <td>1.0</td>\n",
       "      <td>1.0</td>\n",
       "      <td>1.0</td>\n",
       "      <td>0.999975</td>\n",
       "      <td>0.880797</td>\n",
       "      <td>0.999970</td>\n",
       "      <td>1.0</td>\n",
       "      <td>0.985093</td>\n",
       "    </tr>\n",
       "    <tr>\n",
       "      <th>2</th>\n",
       "      <td>0.999929</td>\n",
       "      <td>1.0</td>\n",
       "      <td>1.0</td>\n",
       "      <td>1.0</td>\n",
       "      <td>0.999975</td>\n",
       "      <td>0.880797</td>\n",
       "      <td>0.999946</td>\n",
       "      <td>1.0</td>\n",
       "      <td>0.985081</td>\n",
       "    </tr>\n",
       "    <tr>\n",
       "      <th>3</th>\n",
       "      <td>1.000000</td>\n",
       "      <td>1.0</td>\n",
       "      <td>1.0</td>\n",
       "      <td>1.0</td>\n",
       "      <td>0.999975</td>\n",
       "      <td>0.880797</td>\n",
       "      <td>0.999967</td>\n",
       "      <td>1.0</td>\n",
       "      <td>0.985092</td>\n",
       "    </tr>\n",
       "    <tr>\n",
       "      <th>4</th>\n",
       "      <td>1.000000</td>\n",
       "      <td>1.0</td>\n",
       "      <td>1.0</td>\n",
       "      <td>1.0</td>\n",
       "      <td>0.999975</td>\n",
       "      <td>0.880797</td>\n",
       "      <td>0.999944</td>\n",
       "      <td>1.0</td>\n",
       "      <td>0.985089</td>\n",
       "    </tr>\n",
       "  </tbody>\n",
       "</table>\n",
       "</div>"
      ],
      "text/plain": [
       "         lr   dt   rf   gb       xgb     xgbrf       cat  lgb  mean_probas\n",
       "0  1.000000  1.0  1.0  1.0  0.999960  0.880797  0.999975  1.0     0.985091\n",
       "1  1.000000  1.0  1.0  1.0  0.999975  0.880797  0.999970  1.0     0.985093\n",
       "2  0.999929  1.0  1.0  1.0  0.999975  0.880797  0.999946  1.0     0.985081\n",
       "3  1.000000  1.0  1.0  1.0  0.999975  0.880797  0.999967  1.0     0.985092\n",
       "4  1.000000  1.0  1.0  1.0  0.999975  0.880797  0.999944  1.0     0.985089"
      ]
     },
     "execution_count": 153,
     "metadata": {},
     "output_type": "execute_result"
    }
   ],
   "source": [
    "mean_proba.head()"
   ]
  },
  {
   "cell_type": "code",
   "execution_count": 154,
   "id": "b173a4a1",
   "metadata": {},
   "outputs": [],
   "source": [
    "fpr,tpr,thres = roc_curve(ytest,mean_proba.mean_probas)"
   ]
  },
  {
   "cell_type": "code",
   "execution_count": null,
   "id": "45b64afa",
   "metadata": {},
   "outputs": [],
   "source": []
  },
  {
   "cell_type": "code",
   "execution_count": 168,
   "id": "40c7db1a",
   "metadata": {},
   "outputs": [
    {
     "name": "stdout",
     "output_type": "stream",
     "text": [
      "ROC AUC Score : 0.9999999999999999\n"
     ]
    },
    {
     "data": {
      "image/png": "[encoded data removed]",
      "text/plain": [
       "<Figure size 432x288 with 1 Axes>"
      ]
     },
     "metadata": {
      "needs_background": "light"
     },
     "output_type": "display_data"
    }
   ],
   "source": [
    "plt.plot(fpr,tpr,marker='.')\n",
    "plt.plot([0,1],linestyle='--')\n",
    "plt.grid()\n",
    "print('ROC AUC Score :',roc_auc_score(ytest,mean_proba.mean_probas))\n",
    "plt.show()"
   ]
  },
  {
   "cell_type": "code",
   "execution_count": 161,
   "id": "b0c3b1cd",
   "metadata": {},
   "outputs": [
    {
     "data": {
      "text/html": [
       "<div>\n",
       "<style scoped>\n",
       "    .dataframe tbody tr th:only-of-type {\n",
       "        vertical-align: middle;\n",
       "    }\n",
       "\n",
       "    .dataframe tbody tr th {\n",
       "        vertical-align: top;\n",
       "    }\n",
       "\n",
       "    .dataframe thead th {\n",
       "        text-align: right;\n",
       "    }\n",
       "</style>\n",
       "<table border=\"1\" class=\"dataframe\">\n",
       "  <thead>\n",
       "    <tr style=\"text-align: right;\">\n",
       "      <th></th>\n",
       "      <th>Threshold</th>\n",
       "      <th>Accuracies</th>\n",
       "    </tr>\n",
       "  </thead>\n",
       "  <tbody>\n",
       "    <tr>\n",
       "      <th>410</th>\n",
       "      <td>0.030739</td>\n",
       "      <td>0.999735</td>\n",
       "    </tr>\n",
       "    <tr>\n",
       "      <th>409</th>\n",
       "      <td>0.979649</td>\n",
       "      <td>0.999735</td>\n",
       "    </tr>\n",
       "    <tr>\n",
       "      <th>411</th>\n",
       "      <td>0.028369</td>\n",
       "      <td>0.999469</td>\n",
       "    </tr>\n",
       "    <tr>\n",
       "      <th>408</th>\n",
       "      <td>0.982576</td>\n",
       "      <td>0.996817</td>\n",
       "    </tr>\n",
       "    <tr>\n",
       "      <th>407</th>\n",
       "      <td>0.982591</td>\n",
       "      <td>0.996021</td>\n",
       "    </tr>\n",
       "    <tr>\n",
       "      <th>412</th>\n",
       "      <td>0.017280</td>\n",
       "      <td>0.995491</td>\n",
       "    </tr>\n",
       "    <tr>\n",
       "      <th>413</th>\n",
       "      <td>0.016976</td>\n",
       "      <td>0.995225</td>\n",
       "    </tr>\n",
       "    <tr>\n",
       "      <th>406</th>\n",
       "      <td>0.983553</td>\n",
       "      <td>0.989920</td>\n",
       "    </tr>\n",
       "    <tr>\n",
       "      <th>405</th>\n",
       "      <td>0.983616</td>\n",
       "      <td>0.989655</td>\n",
       "    </tr>\n",
       "    <tr>\n",
       "      <th>404</th>\n",
       "      <td>0.985029</td>\n",
       "      <td>0.977454</td>\n",
       "    </tr>\n",
       "  </tbody>\n",
       "</table>\n",
       "</div>"
      ],
      "text/plain": [
       "     Threshold  Accuracies\n",
       "410   0.030739    0.999735\n",
       "409   0.979649    0.999735\n",
       "411   0.028369    0.999469\n",
       "408   0.982576    0.996817\n",
       "407   0.982591    0.996021\n",
       "412   0.017280    0.995491\n",
       "413   0.016976    0.995225\n",
       "406   0.983553    0.989920\n",
       "405   0.983616    0.989655\n",
       "404   0.985029    0.977454"
      ]
     },
     "execution_count": 161,
     "metadata": {},
     "output_type": "execute_result"
    }
   ],
   "source": [
    "acc=[]\n",
    "for i in thres:\n",
    "    ypred = np.where(mean_probas > i,1,0)\n",
    "    acc.append(accuracy_score(ytest,ypred))\n",
    "    \n",
    "decider = pd.concat([pd.Series(thres),pd.Series(acc)],axis=1)\n",
    "decider.rename(columns = {0: 'Threshold', 1: 'Accuracies'}, inplace = True)\n",
    "decider.sort_values('Accuracies',ascending=False).head(10)"
   ]
  },
  {
   "cell_type": "code",
   "execution_count": 179,
   "id": "f00a6822",
   "metadata": {},
   "outputs": [],
   "source": [
    "threshold = thres[410]"
   ]
  },
  {
   "cell_type": "code",
   "execution_count": 180,
   "id": "e141178e",
   "metadata": {},
   "outputs": [
    {
     "data": {
      "text/plain": [
       "0.030738510306659132"
      ]
     },
     "execution_count": 180,
     "metadata": {},
     "output_type": "execute_result"
    }
   ],
   "source": [
    "threshold"
   ]
  },
  {
   "cell_type": "code",
   "execution_count": 181,
   "id": "aaa88b5e",
   "metadata": {},
   "outputs": [],
   "source": [
    "final_results = []\n",
    "for i in mean_proba.mean_probas:\n",
    "    if i > threshold:\n",
    "        final_results.append(1)\n",
    "    else:\n",
    "        final_results.append(0)"
   ]
  },
  {
   "cell_type": "code",
   "execution_count": 185,
   "id": "0b13601d",
   "metadata": {},
   "outputs": [
    {
     "name": "stdout",
     "output_type": "stream",
     "text": [
      "\n",
      "Accuracy : 0.9997\n",
      "\n",
      "Confusion Matrix :\n",
      "\n",
      " [[  19    1]\n",
      " [   0 3750]]\n",
      "              precision    recall  f1-score   support\n",
      "\n",
      "           0       1.00      0.95      0.97        20\n",
      "           1       1.00      1.00      1.00      3750\n",
      "\n",
      "    accuracy                           1.00      3770\n",
      "   macro avg       1.00      0.97      0.99      3770\n",
      "weighted avg       1.00      1.00      1.00      3770\n",
      "\n"
     ]
    }
   ],
   "source": [
    "print('\\nAccuracy :',round(accuracy_score(ytest,final_results),4))\n",
    "print('\\nConfusion Matrix :\\n\\n',confusion_matrix(ytest,final_results))\n",
    "print(classification_report(ytest,final_results))"
   ]
  },
  {
   "cell_type": "code",
   "execution_count": null,
   "id": "286b4ce6",
   "metadata": {},
   "outputs": [],
   "source": []
  },
  {
   "cell_type": "markdown",
   "id": "94e0b39c",
   "metadata": {},
   "source": [
    "### Despite the Data being Imballanced vastly imbalanced, We have achived an F1 score if 0.97 for the 0 class. This was possible purely because of the analysis we did!"
   ]
  },
  {
   "cell_type": "code",
   "execution_count": null,
   "id": "96a50ebb",
   "metadata": {},
   "outputs": [],
   "source": []
  }
 ],
 "metadata": {
  "kernelspec": {
   "display_name": "Python 3 (ipykernel)",
   "language": "python",
   "name": "python3"
  },
  "language_info": {
   "codemirror_mode": {
    "name": "ipython",
    "version": 3
   },
   "file_extension": ".py",
   "mimetype": "text/x-python",
   "name": "python",
   "nbconvert_exporter": "python",
   "pygments_lexer": "ipython3",
   "version": "3.8.12"
  }
 },
 "nbformat": 4,
 "nbformat_minor": 5
}
